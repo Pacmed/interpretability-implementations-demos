{
 "cells": [
  {
   "cell_type": "code",
   "execution_count": 2,
   "metadata": {
    "pycharm": {
     "is_executing": false
    }
   },
   "outputs": [
    {
     "name": "stdout",
     "output_type": "stream",
     "text": [
      "The autoreload extension is already loaded. To reload it, use:\n",
      "  %reload_ext autoreload\n"
     ]
    }
   ],
   "source": [
    "%load_ext autoreload\n",
    "%autoreload 2\n",
    "import sys\n",
    "\n",
    "import matplotlib.pyplot as plt\n",
    "import numpy as np\n",
    "from sklearn.datasets import fetch_openml, load_boston\n",
    "from sklearn.model_selection import train_test_split\n",
    "from sklearn.tree import DecisionTreeRegressor, plot_tree\n",
    "\n",
    "from imodels import SLIMRegressor, BayesianRuleListClassifier, RuleFitRegressor, GreedyRuleListClassifier\n",
    "\n",
    "# import models\n",
    "# installable with: `pip install git+https://github.com/csinva/imodels`\n",
    "\n",
    "\n",
    "# load (regression) data on boston housing prices\n",
    "def get_reg_boston_data():\n",
    "    X, y = load_boston(return_X_y=True)\n",
    "    feature_names = load_boston()['feature_names']\n",
    "    return X, y, feature_names"
   ]
  },
  {
   "cell_type": "markdown",
   "metadata": {},
   "source": [
    "# rule sets"
   ]
  },
  {
   "cell_type": "markdown",
   "metadata": {},
   "source": [
    "### rulefit"
   ]
  },
  {
   "cell_type": "code",
   "execution_count": null,
   "metadata": {
    "pycharm": {
     "is_executing": false
    }
   },
   "outputs": [],
   "source": [
    "# load some data\n",
    "X, y, feature_names = get_reg_boston_data()\n",
    "\n",
    "# fit a rulefit model\n",
    "rf = RuleFitRegressor()\n",
    "rf.fit(X, y, feature_names=feature_names)\n",
    "\n",
    "# calculate mse on the training data\n",
    "preds = rf.predict(X)\n",
    "print(f'train mse: {np.mean(np.square(preds-y)):0.2f}')"
   ]
  },
  {
   "cell_type": "markdown",
   "metadata": {},
   "source": [
    "now, let's inspect the rules"
   ]
  },
  {
   "cell_type": "code",
   "execution_count": 6,
   "metadata": {},
   "outputs": [
    {
     "data": {
      "text/html": [
       "<style  type=\"text/css\" >\n",
       "    #T_ea9fcfa2_f576_11ea_8a0b_002590e83e0arow0_col1 {\n",
       "            background-color:  #fde725;\n",
       "            color:  #000000;\n",
       "        }    #T_ea9fcfa2_f576_11ea_8a0b_002590e83e0arow0_col2 {\n",
       "            background-color:  #fde725;\n",
       "            color:  #000000;\n",
       "        }    #T_ea9fcfa2_f576_11ea_8a0b_002590e83e0arow1_col1 {\n",
       "            background-color:  #f1e51d;\n",
       "            color:  #000000;\n",
       "        }    #T_ea9fcfa2_f576_11ea_8a0b_002590e83e0arow1_col2 {\n",
       "            background-color:  #fde725;\n",
       "            color:  #000000;\n",
       "        }    #T_ea9fcfa2_f576_11ea_8a0b_002590e83e0arow2_col1 {\n",
       "            background-color:  #dde318;\n",
       "            color:  #000000;\n",
       "        }    #T_ea9fcfa2_f576_11ea_8a0b_002590e83e0arow2_col2 {\n",
       "            background-color:  #22a884;\n",
       "            color:  #000000;\n",
       "        }    #T_ea9fcfa2_f576_11ea_8a0b_002590e83e0arow3_col1 {\n",
       "            background-color:  #1f968b;\n",
       "            color:  #000000;\n",
       "        }    #T_ea9fcfa2_f576_11ea_8a0b_002590e83e0arow3_col2 {\n",
       "            background-color:  #2a788e;\n",
       "            color:  #000000;\n",
       "        }    #T_ea9fcfa2_f576_11ea_8a0b_002590e83e0arow4_col1 {\n",
       "            background-color:  #440154;\n",
       "            color:  #f1f1f1;\n",
       "        }    #T_ea9fcfa2_f576_11ea_8a0b_002590e83e0arow4_col2 {\n",
       "            background-color:  #440154;\n",
       "            color:  #f1f1f1;\n",
       "        }</style><table id=\"T_ea9fcfa2_f576_11ea_8a0b_002590e83e0a\" ><thead>    <tr>        <th class=\"blank level0\" ></th>        <th class=\"col_heading level0 col0\" >rule</th>        <th class=\"col_heading level0 col1\" >coef</th>        <th class=\"col_heading level0 col2\" >support</th>    </tr></thead><tbody>\n",
       "                <tr>\n",
       "                        <th id=\"T_ea9fcfa2_f576_11ea_8a0b_002590e83e0alevel0_row0\" class=\"row_heading level0 row0\" >1</th>\n",
       "                        <td id=\"T_ea9fcfa2_f576_11ea_8a0b_002590e83e0arow0_col0\" class=\"data row0 col0\" >zn</td>\n",
       "                        <td id=\"T_ea9fcfa2_f576_11ea_8a0b_002590e83e0arow0_col1\" class=\"data row0 col1\" >0.00823711</td>\n",
       "                        <td id=\"T_ea9fcfa2_f576_11ea_8a0b_002590e83e0arow0_col2\" class=\"data row0 col2\" >1</td>\n",
       "            </tr>\n",
       "            <tr>\n",
       "                        <th id=\"T_ea9fcfa2_f576_11ea_8a0b_002590e83e0alevel0_row1\" class=\"row_heading level0 row1\" >6</th>\n",
       "                        <td id=\"T_ea9fcfa2_f576_11ea_8a0b_002590e83e0arow1_col0\" class=\"data row1 col0\" >age</td>\n",
       "                        <td id=\"T_ea9fcfa2_f576_11ea_8a0b_002590e83e0arow1_col1\" class=\"data row1 col1\" >-0.0205571</td>\n",
       "                        <td id=\"T_ea9fcfa2_f576_11ea_8a0b_002590e83e0arow1_col2\" class=\"data row1 col2\" >1</td>\n",
       "            </tr>\n",
       "            <tr>\n",
       "                        <th id=\"T_ea9fcfa2_f576_11ea_8a0b_002590e83e0alevel0_row2\" class=\"row_heading level0 row2\" >721</th>\n",
       "                        <td id=\"T_ea9fcfa2_f576_11ea_8a0b_002590e83e0arow2_col0\" class=\"data row2 col0\" >rm <= 8.386499881744385 & dis > 1.3007500171661377</td>\n",
       "                        <td id=\"T_ea9fcfa2_f576_11ea_8a0b_002590e83e0arow2_col1\" class=\"data row2 col1\" >-0.0656153</td>\n",
       "                        <td id=\"T_ea9fcfa2_f576_11ea_8a0b_002590e83e0arow2_col2\" class=\"data row2 col2\" >0.974359</td>\n",
       "            </tr>\n",
       "            <tr>\n",
       "                        <th id=\"T_ea9fcfa2_f576_11ea_8a0b_002590e83e0alevel0_row3\" class=\"row_heading level0 row3\" >134</th>\n",
       "                        <td id=\"T_ea9fcfa2_f576_11ea_8a0b_002590e83e0arow3_col0\" class=\"data row3 col0\" >rm > 4.984999895095825 & dis > 1.1857500076293945</td>\n",
       "                        <td id=\"T_ea9fcfa2_f576_11ea_8a0b_002590e83e0arow3_col1\" class=\"data row3 col1\" >-0.662768</td>\n",
       "                        <td id=\"T_ea9fcfa2_f576_11ea_8a0b_002590e83e0arow3_col2\" class=\"data row3 col2\" >0.961538</td>\n",
       "            </tr>\n",
       "            <tr>\n",
       "                        <th id=\"T_ea9fcfa2_f576_11ea_8a0b_002590e83e0alevel0_row4\" class=\"row_heading level0 row4\" >1291</th>\n",
       "                        <td id=\"T_ea9fcfa2_f576_11ea_8a0b_002590e83e0arow4_col0\" class=\"data row4 col0\" >rm <= 7.494999885559082 & dis > 1.1716500520706177</td>\n",
       "                        <td id=\"T_ea9fcfa2_f576_11ea_8a0b_002590e83e0arow4_col1\" class=\"data row4 col1\" >-1.41123</td>\n",
       "                        <td id=\"T_ea9fcfa2_f576_11ea_8a0b_002590e83e0arow4_col2\" class=\"data row4 col2\" >0.935897</td>\n",
       "            </tr>\n",
       "    </tbody></table>"
      ],
      "text/plain": [
       "<pandas.io.formats.style.Styler at 0x7fb779835110>"
      ]
     },
     "execution_count": 6,
     "metadata": {},
     "output_type": "execute_result"
    }
   ],
   "source": [
    "rules = rf.get_rules()\n",
    "\n",
    "rules = rules[rules.coef != 0].sort_values(\"support\", ascending=False)\n",
    "\n",
    "# 'rule' is how the feature is constructed\n",
    "# 'coef' is its weight in the final linear model\n",
    "# 'support' is how many points it applies to\n",
    "rules[['rule', 'coef', 'support']].head().style.background_gradient(cmap='viridis')"
   ]
  },
  {
   "cell_type": "markdown",
   "metadata": {},
   "source": [
    "# rule lists"
   ]
  },
  {
   "cell_type": "markdown",
   "metadata": {},
   "source": [
    "### greedy rule lists\n",
    "**like a decision tree that only ever splits going left**"
   ]
  },
  {
   "cell_type": "code",
   "execution_count": 3,
   "metadata": {
    "pycharm": {
     "is_executing": false
    }
   },
   "outputs": [
    {
     "name": "stderr",
     "output_type": "stream",
     "text": [
      "/accounts/projects/vision/.local/lib/python3.7/site-packages/sklearn/datasets/_openml.py:376: UserWarning: Multiple active versions of the dataset matching the name diabetes exist. Versions may be fundamentally different, returning version 1.\n",
      "  \" {version}.\".format(name=name, version=res[0]['version']))\n"
     ]
    },
    {
     "name": "stdout",
     "output_type": "stream",
     "text": [
      "shapes (768, 8) (768,)\n",
      "mean 0.349 (768 pts)\n",
      "if plas >= 128.0 then 0.615 (283 pts)\n",
      "mean 0.194 (485 pts)\n",
      "if age >= 29.0 then 0.332 (214 pts)\n",
      "mean 0.085 (271 pts)\n",
      "if mass >= 45.5 then 0.75 (4 pts)\n",
      "mean 0.075 (267 pts)\n",
      "if mass >= 31.0 then 0.155 (116 pts)\n",
      "mean 0.013 (151 pts)\n",
      "if preg >= 8.0 then 1.0 (1 pts)\n",
      "\n"
     ]
    },
    {
     "data": {
      "image/png": "[encoded data removed]",
      "text/plain": [
       "<Figure size 432x288 with 1 Axes>"
      ]
     },
     "metadata": {
      "needs_background": "light"
     },
     "output_type": "display_data"
    }
   ],
   "source": [
    "# load some data\n",
    "data = fetch_openml(\"diabetes\") # get dataset\n",
    "y = (data.target == 'tested_positive').astype(np.int) # labels 0-1\n",
    "X = data.data\n",
    "print('shapes', X.shape, y.shape)\n",
    "\n",
    "# fit a rulefit model\n",
    "m = GreedyRuleListClassifier()\n",
    "m.fit(X, y=y, feature_names=data.feature_names) # stores into m.rules_\n",
    "probs = m.predict_proba(X)\n",
    "print(m)\n",
    "\n",
    "# look at prediction breakdown\n",
    "plt.hist(probs[:, 1][y==0], label='class 0')\n",
    "plt.hist(probs[:, 1][y==1], label='class 1', alpha=0.8)\n",
    "plt.ylabel('Count')\n",
    "plt.xlabel('Predicted probability of class 1')\n",
    "plt.legend()\n",
    "plt.show()"
   ]
  },
  {
   "cell_type": "markdown",
   "metadata": {},
   "source": [
    "### scalable bayesian rule lists"
   ]
  },
  {
   "cell_type": "code",
   "execution_count": 7,
   "metadata": {},
   "outputs": [
    {
     "name": "stderr",
     "output_type": "stream",
     "text": [
      "/accounts/projects/vision/.local/lib/python3.7/site-packages/sklearn/datasets/_openml.py:376: UserWarning: Multiple active versions of the dataset matching the name diabetes exist. Versions may be fundamentally different, returning version 1.\n",
      "  \" {version}.\".format(name=name, version=res[0]['version']))\n"
     ]
    },
    {
     "name": "stdout",
     "output_type": "stream",
     "text": [
      "training...\n",
      "RuleListClassifier Accuracy: 0.5659722222222222 Learned interpretable model:\n",
      " Trained RuleListClassifier for detecting diabetes\n",
      "==================================================\n",
      "IF Glucose concentration test : 122.5_to_inf AND Body mass index : 30.9_to_inf THEN probability of diabetes: 72.4% (60.3%-83.0%)\n",
      "ELSE IF Glucose concentration test : 122.5_to_inf THEN probability of diabetes: 34.6% (18.0%-53.5%)\n",
      "ELSE IF #Pregnant : 6.5_to_inf THEN probability of diabetes: 53.3% (28.9%-77.0%)\n",
      "ELSE IF Body mass index : -inf_to_30.9 THEN probability of diabetes: 3.7% (0.5%-10.1%)\n",
      "ELSE probability of diabetes: 18.4% (8.9%-30.2%)\n",
      "=================================================\n",
      "\n"
     ]
    }
   ],
   "source": [
    "np.random.seed(13)\n",
    "\n",
    "feature_labels = [\"#Pregnant\",\"Glucose concentration test\",\"Blood pressure(mmHg)\",\"Triceps skin fold thickness(mm)\",\n",
    "                  \"2-Hour serum insulin (mu U/ml)\",\"Body mass index\",\"Diabetes pedigree function\",\"Age (years)\"]\n",
    "data = fetch_openml(\"diabetes\") # get dataset\n",
    "X = data.data\n",
    "y = (data.target == 'tested_positive').astype(np.int) # labels 0-1\n",
    "\n",
    "X_train, X_test, y_train, y_test = train_test_split(X, y, test_size=0.75) # split\n",
    "\n",
    "# train classifier (allow more iterations for better accuracy; use BigDataRuleListClassifier for large datasets)\n",
    "print('training...')\n",
    "model = BayesianRuleListClassifier(max_iter=1000, class1label=\"diabetes\", verbose=False)\n",
    "model.fit(X_train, y_train, feature_labels=feature_labels)\n",
    "preds = model.predict(X_test)\n",
    "print(\"RuleListClassifier Accuracy:\", np.mean(y_test == preds), \"Learned interpretable model:\\n\", model)\n",
    "# print(\"RandomForestClassifier Accuracy:\", RandomForestClassifier(n_estimators=10).fit(Xtrain, ytrain).score(Xtest, ytest))"
   ]
  },
  {
   "cell_type": "markdown",
   "metadata": {},
   "source": [
    "# rule trees"
   ]
  },
  {
   "cell_type": "markdown",
   "metadata": {},
   "source": [
    "### short decision tree"
   ]
  },
  {
   "cell_type": "code",
   "execution_count": 3,
   "metadata": {
    "pycharm": {
     "is_executing": false
    }
   },
   "outputs": [
    {
     "name": "stdout",
     "output_type": "stream",
     "text": [
      "train mse: 15.38\n"
     ]
    },
    {
     "data": {
      "image/png": "[encoded data removed]",
      "text/plain": [
       "<Figure size 432x288 with 1 Axes>"
      ]
     },
     "metadata": {
      "needs_background": "light"
     },
     "output_type": "display_data"
    }
   ],
   "source": [
    "# load in some data\n",
    "X, y, features = get_reg_boston_data()\n",
    "\n",
    "# specify a decision tree with a maximum depth\n",
    "dt = DecisionTreeRegressor(max_depth=3)\n",
    "dt.fit(X, y)\n",
    "\n",
    "# calculate mse on the training data\n",
    "preds = dt.predict(X)\n",
    "print(f'train mse: {np.mean(np.square(preds-y)):0.2f}')\n",
    "\n",
    "plot_tree(dt)\n",
    "plt.savefig('tree.pdf')\n",
    "plt.show()"
   ]
  },
  {
   "cell_type": "markdown",
   "metadata": {},
   "source": [
    "### optimal classification tree\n",
    "- docs [here](https://github.com/csinva/interpretability-workshop/tree/master/imodels/optimal_classification_tree)\n",
    "- note: this implementation is still somewhat unstable, and can be made faster by installing either `cplex` or `gurobi`"
   ]
  },
  {
   "cell_type": "code",
   "execution_count": 3,
   "metadata": {},
   "outputs": [],
   "source": [
    "sys.path.append('../imodels/optimal_classification_tree/pyoptree')\n",
    "sys.path.append('../imodels/optimal_classification_tree/')"
   ]
  },
  {
   "cell_type": "code",
   "execution_count": null,
   "metadata": {},
   "outputs": [],
   "source": [
    "from optree import OptimalTreeModel\n",
    "feature_names = np.array([\"x1\", \"x2\"])\n",
    "\n",
    "X = np.array([[1, 2, 2, 2, 3], [1, 2, 1, 0, 1]]).T\n",
    "y = np.array([1, 1, 0, 0, 0]).reshape(-1, 1)\n",
    "X_test = np.array([[1, 1, 2, 2, 2, 3, 3], [1, 2, 2, 1, 0, 1, 0]]).T\n",
    "y_test = np.array([1, 1, 1, 0, 0, 0, 0])\n",
    "\n",
    "np.random.seed(13)\n",
    "model = OptimalTreeModel(tree_depth=3, N_min=1, alpha=0.1) #, solver_name='baron'\n",
    "model.fit(X_test, y_test) # this method is currently using the fast, but not optimal solver\n",
    "preds = model.predict(X_test)\n",
    "\n",
    "# fit on the bigger diabetes dset from above\n",
    "# model.fit(Xtrain, ytrain) # this method is currently using the fast, but not optimal solver\n",
    "# preds = model.predict(Xtest)\n",
    "\n",
    "print('acc', np.mean(preds == y_test))"
   ]
  },
  {
   "cell_type": "code",
   "execution_count": 10,
   "metadata": {},
   "outputs": [
    {
     "name": "stdout",
     "output_type": "stream",
     "text": [
      "depth 0:\n",
      "\t x2 > 0.8114524236945737\n",
      "\n",
      "depth 1:\n",
      "\tnode 2 undefined\n",
      "\tnode 3 undefined\n",
      "\n",
      "depth 2:\n",
      "\tnode 4 undefined\n",
      "\t x1 > 0.01086684288089712\n",
      "\t x2 > 0.9159532769401844\n",
      "\tnode 7 undefined\n",
      "\n",
      "depth 3:\n",
      "\tnode 8 undefined\n",
      "\tnode 9 undefined\n",
      "\tnode 10 undefined\n",
      "\tnode 11 undefined\n",
      "\tnode 12 undefined\n",
      "\tnode 13 undefined\n",
      "\tnode 14 undefined\n",
      "\tnode 15 undefined\n",
      "\n"
     ]
    }
   ],
   "source": [
    "model.print_tree(feature_names)"
   ]
  },
  {
   "cell_type": "markdown",
   "metadata": {},
   "source": [
    "# algebraic models"
   ]
  },
  {
   "cell_type": "markdown",
   "metadata": {},
   "source": [
    "### integer linear models"
   ]
  },
  {
   "cell_type": "code",
   "execution_count": null,
   "metadata": {
    "pycharm": {
     "is_executing": false
    }
   },
   "outputs": [],
   "source": [
    "np.random.seed(123)\n",
    "\n",
    "# generate X and y\n",
    "n, p = 1000, 10\n",
    "X = np.random.randn(n, p)\n",
    "y = X[:, 0] + 2 * X[:, 1] - 1 * X[:, 2] + np.random.randn(n)\n",
    "\n",
    "# fit linear models with different regularization parameters\n",
    "model = SLIMRegressor()\n",
    "for lambda_reg in [0, 1e-2, 5e-2, 1e-1, 1, 2]:\n",
    "    model.fit(X, y, lambda_reg)\n",
    "    mse = np.mean(np.square(y - model.predict(X)))\n",
    "    print(f'lambda: {lambda_reg}\\tmse: {mse: 0.2f}\\tweights: {model.model.coef_}')"
   ]
  }
 ],
 "metadata": {
  "kernelspec": {
   "display_name": "Python 3",
   "language": "python",
   "name": "python3"
  },
  "language_info": {
   "codemirror_mode": {
    "name": "ipython",
    "version": 3
   },
   "file_extension": ".py",
   "mimetype": "text/x-python",
   "name": "python",
   "nbconvert_exporter": "python",
   "pygments_lexer": "ipython3",
   "version": "3.7.5"
  },
  "pycharm": {
   "stem_cell": {
    "cell_type": "raw",
    "metadata": {
     "collapsed": false
    },
    "source": []
   }
  }
 },
 "nbformat": 4,
 "nbformat_minor": 4
}
